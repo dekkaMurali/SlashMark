{
 "cells": [
  {
   "cell_type": "code",
   "execution_count": null,
   "metadata": {},
   "outputs": [],
   "source": [
    "import pandas as pd\n",
    "import numpy as np\n",
    "import matplotlib.pyplot as plot\n",
    "import seaborn\n",
    "import seaborn as sns\n",
    "from sklearn.model_selection import train_test_split\n",
    "from sklearn import preprocessing \n",
    "from sklearn.ensemble import RandomForestClassifier\n",
    "from sklearn.metrics import mean_squared_error ,accuracy_score"
   ]
  },
  {
   "cell_type": "code",
   "execution_count": null,
   "metadata": {},
   "outputs": [],
   "source": [
    "data=pd.read_csv('D:/Users/varun/Downloads/basic/basic/weather.csv')\n",
    "mean_value=data['WindSpeed9am'].mean()\n",
    "data['WindSpeed9am'].fillna(value=mean_value, inplace=True)\n",
    "data.info()\n",
    "new_data = data.dropna()\n",
    "print(new_data.head(2))\n",
    "new_data.info()\n",
    "seaborn.pairplot(new_data, hue ='Cloud9am')\n",
    "#plot.show()\n",
    "sns.histplot(data['MaxTemp'], kde=True)\n",
    "plot.show()"
   ]
  },
  {
   "cell_type": "code",
   "execution_count": null,
   "metadata": {},
   "outputs": [],
   "source": [
    "data['temperature_squared'] = data['MaxTemp'] ** 2\n",
    "\n",
    "correlation = data['MaxTemp'].corr(data['Humidity9am'])\n",
    "print(f\"Correlation between temperature and humidity: {correlation}\")\n",
    "\n",
    "\n",
    "sns.boxplot(x='Rainfall', data=data)\n",
    "plot.show()\n",
    "sns.scatterplot(x='MaxTemp', y='RainTomorrow', data=data)\n",
    "plot.title('Relationship between MaxTemp and RainTomorrow')\n",
    "plot.xlabel('MaxTemp')\n",
    "plot.ylabel('RainTomorrow')\n",
    "plot.show()\n",
    "\n",
    "\n",
    "sns.scatterplot(x='Rainfall', y='RainTomorrow', data=new_data)\n",
    "plot.title('Relationship between Rainfall and RainTomorrow')\n",
    "plot.xlabel('Rainfall')\n",
    "plot.ylabel('RainTomorrow')\n",
    "plot.show()\n",
    "\n",
    "sns.scatterplot(x='Humidity9am', y='RainTomorrow', data=new_data)\n",
    "plot.title('Relationship between Humidity9am and RainTomorrow')\n",
    "plot.xlabel('Humidity9am')\n",
    "plot.ylabel('RainTomorrow')\n",
    "plot.show()\n",
    "\n",
    "sns.scatterplot(x='Humidity3pm', y='RainTomorrow', data=new_data)\n",
    "plot.title('Relationship between Humidity9am and RainTomorrow')\n",
    "plot.xlabel('Humidity3pm')\n",
    "plot.ylabel('RainTomorrow')\n",
    "plot.show()\n",
    "print(new_data.info())\n",
    "label_encoder = preprocessing.LabelEncoder() "
   ]
  },
  {
   "cell_type": "code",
   "execution_count": null,
   "metadata": {},
   "outputs": [],
   "source": [
    "new_data['RainToday']= label_encoder.fit_transform(new_data['RainToday'])\n",
    "print(new_data['RainToday'].unique())\n",
    "new_data['RainTomorrow']= label_encoder.fit_transform(new_data['RainTomorrow']) \n",
    "print(new_data['RainTomorrow'].unique()) \n",
    "X = new_data.drop(new_data.columns[[5, 7, 8]], axis=1)\n",
    "y = new_data['RainTomorrow']\n",
    "\n",
    "X_train, X_test, y_train, y_test = train_test_split(X, y, test_size=0.2, random_state=42)\n",
    "\n",
    "model = RandomForestClassifier()\n",
    "model.fit(X_train, y_train)\n",
    "\n",
    "y_pred = model.predict(X_test)\n",
    "mse = mean_squared_error(y_test, y_pred)\n",
    "print(f\"Mean Squared Error: {mse}\")\n",
    "Acc = accuracy_score(y_test, y_pred)\n",
    "print(\"Accuracy Score:\", Acc)"
   ]
  }
 ],
 "metadata": {
  "kernelspec": {
   "display_name": "Python 3",
   "language": "python",
   "name": "python3"
  },
  "language_info": {
   "codemirror_mode": {
    "name": "ipython",
    "version": 3
   },
   "file_extension": ".py",
   "mimetype": "text/x-python",
   "name": "python",
   "nbconvert_exporter": "python",
   "pygments_lexer": "ipython3",
   "version": "3.10.10"
  }
 },
 "nbformat": 4,
 "nbformat_minor": 2
}
